{
 "cells": [
  {
   "cell_type": "code",
   "execution_count": 1,
   "metadata": {},
   "outputs": [],
   "source": [
    "import sys\n",
    "sys.path.insert(0, \"../app/coman\")\n",
    "import os\n",
    "from dotenv import load_dotenv\n",
    "from azure.search.documents import SearchClient\n",
    "from azure.core.credentials import AzureKeyCredential"
   ]
  },
  {
   "cell_type": "code",
   "execution_count": 2,
   "metadata": {},
   "outputs": [],
   "source": [
    "load_dotenv()\n",
    "\n",
    "service_endpoint = str(os.getenv(\"AZURE_SEARCH_BASE_URL\"))\n",
    "index_name = str(os.getenv(\"AZURE_SEARCH_INDEX_NAME\"))\n",
    "key = str(os.getenv(\"AZURE_SEARCH_KEY\"))\n",
    "client = SearchClient(service_endpoint, index_name, AzureKeyCredential(key))"
   ]
  },
  {
   "cell_type": "code",
   "execution_count": 11,
   "metadata": {},
   "outputs": [
    {
     "name": "stdout",
     "output_type": "stream",
     "text": [
      "None\n",
      "[]\n"
     ]
    }
   ],
   "source": [
    "result = client.search(\"*\",filter=\"source eq '0e73fe6f-7b4a-4f36-895f-635a61349daa'\")\n",
    "ids = [{'id': d['id']} for d in result]\n",
    "print(ids)"
   ]
  },
  {
   "cell_type": "code",
   "execution_count": 12,
   "metadata": {},
   "outputs": [],
   "source": [
    "if len(ids) > 0:\n",
    "    client.delete_documents(ids)"
   ]
  }
 ],
 "metadata": {
  "kernelspec": {
   "display_name": "ai-traject-g27rUJ5U-py3.11",
   "language": "python",
   "name": "python3"
  },
  "language_info": {
   "codemirror_mode": {
    "name": "ipython",
    "version": 3
   },
   "file_extension": ".py",
   "mimetype": "text/x-python",
   "name": "python",
   "nbconvert_exporter": "python",
   "pygments_lexer": "ipython3",
   "version": "3.11.9"
  }
 },
 "nbformat": 4,
 "nbformat_minor": 2
}
