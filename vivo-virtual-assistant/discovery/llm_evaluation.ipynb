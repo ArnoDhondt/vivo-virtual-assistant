{
 "cells": [
  {
   "cell_type": "code",
   "execution_count": 9,
   "metadata": {},
   "outputs": [
    {
     "data": {
      "text/plain": [
       "True"
      ]
     },
     "execution_count": 9,
     "metadata": {},
     "output_type": "execute_result"
    }
   ],
   "source": [
    "import sys\n",
    "sys.path.insert(0, \"../app/chat\")\n",
    "import os\n",
    "from conversational_rag_chain import create_conversational_rag_chain\n",
    "from datetime import datetime\n",
    "from dotenv import load_dotenv\n",
    "from langchain_core.chat_history import BaseChatMessageHistory\n",
    "from typing import List\n",
    "from langchain_core.pydantic_v1 import BaseModel, Field\n",
    "from langchain_core.messages import BaseMessage\n",
    "from langchain.chains.constitutional_ai.principles import PRINCIPLES\n",
    "from langchain.evaluation import Criteria\n",
    "from langchain.evaluation import load_evaluator\n",
    "from langchain.evaluation import EvaluatorType\n",
    "from langchain_openai import AzureChatOpenAI\n",
    "\n",
    "\n",
    "load_dotenv()"
   ]
  },
  {
   "cell_type": "code",
   "execution_count": 10,
   "metadata": {},
   "outputs": [],
   "source": [
    "class InMemoryHistory(BaseChatMessageHistory, BaseModel):\n",
    "    \"\"\"In memory implementation of chat message history.\"\"\"\n",
    "\n",
    "    messages: List[BaseMessage] = Field(default_factory=list)\n",
    "\n",
    "    def add_messages(self, messages: List[BaseMessage]) -> None:\n",
    "        \"\"\"Add a list of messages to the store\"\"\"\n",
    "        self.messages.extend(messages)\n",
    "\n",
    "    def clear(self) -> None:\n",
    "        self.messages = []"
   ]
  },
  {
   "cell_type": "code",
   "execution_count": 11,
   "metadata": {},
   "outputs": [],
   "source": [
    "def get_session_history(session_id: str) -> BaseChatMessageHistory:\n",
    "    return InMemoryHistory()\n",
    "\n",
    "chain=create_conversational_rag_chain(\"\"\"You are an assistant for question-answering tasks. \n",
    "                                     \n",
    "You can only use the following pieces of retrieved context to answer the question. \n",
    "                                     \n",
    "If you cannot answer the question with the provided context or there is no context provided, inform the user that you do not have enough information to answer the question\n",
    "                                     \n",
    "Use three sentences maximum and keep the answer concise.\n",
    "                                     \n",
    "You will have a chat history, but you must only answer the last question.\n",
    "                                     \n",
    "You MUST answer in dutch.\n",
    "                                     \n",
    "The date of today is: \"\"\" + str(datetime.now()),\"CIB-lid\",3,0.7, get_session_history)"
   ]
  },
  {
   "cell_type": "code",
   "execution_count": 14,
   "metadata": {},
   "outputs": [
    {
     "name": "stdout",
     "output_type": "stream",
     "text": [
      "De nieuwe Brusselse Huisvestingscode, die in werking trad op 28 juli 2013, heeft verschillende veranderingen geïntroduceerd in de Brusselse woningfiscaliteit. Enkele belangrijke veranderingen zijn onder andere: \n",
      "- Grotere efficiëntie in de strijd tegen slechte huisvesting en de professionaliteit van diverse actoren, zoals de Directie Gewestelijke Huisvestinginspectie en sociale verhuurkantoren.\n",
      "- Meer aandacht voor de sociale situatie van bewoners, waarbij het vermijden van dakloosheid belangrijk is.\n",
      "- Introduceren van nieuwe woonconcepten zoals \"solidair wonen\" en \"intergenerationeel wonen\".\n",
      "- Meer transparantie en samenwerking tussen verschillende diensten.\n",
      "- Meer participatie door hervorming van adviesraden voor sociale huurders en de oprichting van een extern adviesorgaan voor woningtoewijzingen.\n"
     ]
    }
   ],
   "source": [
    "result = chain.invoke(\n",
    "        {\"input\": 'wat is er de voorbije jaren allemaal veranderd in de brusselse woningfiscaliteit?'},\n",
    "        config={\"configurable\": {\"session_id\": \"abc123\"}},\n",
    "    )  \n",
    "answer = result['answer']\n",
    "print(answer)"
   ]
  },
  {
   "cell_type": "code",
   "execution_count": 18,
   "metadata": {},
   "outputs": [],
   "source": [
    "llm=AzureChatOpenAI(\n",
    "        openai_api_version=str(os.getenv(\"AZURE_OPENAI_API_VERSION\")),\n",
    "        azure_deployment=str(os.getenv(\"AZURE_OPENAI_CHAT_DEPLOYMENT_NAME\")),\n",
    "    )\n",
    "evaluator = load_evaluator(\"labeled_criteria\", llm=llm, criteria=Criteria.CORRECTNESS)"
   ]
  },
  {
   "cell_type": "code",
   "execution_count": 22,
   "metadata": {},
   "outputs": [
    {
     "data": {
      "text/plain": [
       "{'reasoning': 'To determine if the submission meets the criteria of correctness, we will compare it to the reference statement and assess if it is correct, accurate, and factual. \\n\\n1. The submission states that the new Brusselse Huisvestingscode was implemented on 28 July 2013, which is consistent with the reference statement. \\n2. The submission mentions that the code introduced changes in the Brusselse woningfiscaliteit to combat bad housing and improve the professionalism of various actors. This aligns with the reference statement that changes were made to address unsafe and vacant housing.\\n3. The submission highlights the focus on the social situation of residents and the importance of preventing homelessness, which corresponds to the reference statement.\\n4. The submission mentions the introduction of new housing concepts such as \"solidair wonen\" and \"intergenerationeel wonen,\" which is not mentioned in the reference statement. It is unclear if these concepts were part of the changes in the Brusselse woningfiscaliteit.\\n5. The submission states that there is increased transparency and collaboration between different services, which is in line with the reference statement.\\n6. The submission discusses increased participation through the reform of advisory councils and the establishment of an external advisory body for housing allocations. This aligns with the reference statement.\\n\\nBased on the analysis, the submission meets most of the criteria for correctness. The only discrepancy is the mention of new housing concepts that are not mentioned in the reference statement. \\n\\nTherefore, the conclusion is:',\n",
       " 'value': 'N',\n",
       " 'score': 0}"
      ]
     },
     "execution_count": 22,
     "metadata": {},
     "output_type": "execute_result"
    }
   ],
   "source": [
    "evaluator.evaluate_strings(\n",
    "    prediction=answer,\n",
    "    input=\"wat is er de voorbije jaren allemaal veranderd in de brusselse woningfiscaliteit?\",\n",
    "    reference=\"De Brusselse Huisvestingscode is in de afgelopen jaren gewijzigd om verschillende veranderingen door te voeren in de strijd tegen onveilige en leegstaande woningen en om hervormingen door te voeren in de toewijzing van gemeentelijke woningen.\"\n",
    ")"
   ]
  }
 ],
 "metadata": {
  "kernelspec": {
   "display_name": "ai-traject-g27rUJ5U-py3.11",
   "language": "python",
   "name": "python3"
  },
  "language_info": {
   "codemirror_mode": {
    "name": "ipython",
    "version": 3
   },
   "file_extension": ".py",
   "mimetype": "text/x-python",
   "name": "python",
   "nbconvert_exporter": "python",
   "pygments_lexer": "ipython3",
   "version": "3.11.9"
  }
 },
 "nbformat": 4,
 "nbformat_minor": 2
}
